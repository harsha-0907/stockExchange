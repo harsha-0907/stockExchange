{
 "cells": [
  {
   "cell_type": "code",
   "execution_count": null,
   "metadata": {},
   "outputs": [],
   "source": [
    "from queue import Empty as QueueEmpty\n",
    "import heapq "
   ]
  },
  {
   "cell_type": "code",
   "execution_count": null,
   "metadata": {},
   "outputs": [],
   "source": []
  },
  {
   "cell_type": "code",
   "execution_count": null,
   "metadata": {},
   "outputs": [],
   "source": []
  },
  {
   "cell_type": "markdown",
   "metadata": {},
   "source": []
  },
  {
   "cell_type": "code",
   "execution_count": 1,
   "metadata": {},
   "outputs": [
    {
     "data": {
      "text/plain": [
       "2"
      ]
     },
     "execution_count": 1,
     "metadata": {},
     "output_type": "execute_result"
    }
   ],
   "source": [
    "def transactionEngine(stockId, queue, dbQueue, logQueue, users, shutdownEvent):\n",
    "    def marketTransaction(request):\n",
    "        global transactions\n",
    "        side = request.get(\"side\")\n",
    "        transactionsModified = []\n",
    "        if side == \"buy\":\n",
    "            numberOfStockRequired = request.get(\"quantity\"); amountRecieved = numberOfStockRequired * request.get(\"pricePerUnit\", 0)\n",
    "            actualPrice = 0.0   # Price while buying stocks\n",
    "            while numberOfStockRequired > 0 and len(transactions[\"sell\"]) > 0:\n",
    "                priceInThisTransaction, timeStamp, transaction = heapq.heapop(transactions[\"sell\"])\n",
    "                stocksInThisTransaction = transaction.get(\"quantity\")   # Stocks that are present with the seller\n",
    "                addedStocks = min(stocksInThisTransaction, numberOfStockRequired)\n",
    "                \n",
    "                stocksInThisTransaction -= addedStocks; numberOfStockRequired -= addedStocks\n",
    "                thisTransactionValue = addedStocks * priceInThisTransaction\n",
    "                actualPrice += thisTransactionValue\n",
    "\n",
    "                _request = {\n",
    "                    \"modify\": \"partial\" if stocksInThisTransaction > 0 else \"complete\",\n",
    "                    \"sellerId\": transaction.get(\"uId\"),\n",
    "                    \"buyerId\": request.get(\"uId\"),\n",
    "                    \"buyerTid\": request.get(\"tId\"),\n",
    "                    \"sellerTid\": request.get(\"tId\"),\n",
    "                    \"amountToSeller\": thisTransactionValue, # Amount to be transferred to seller\n",
    "                    \"quantity\": addedStocks\n",
    "                }\n",
    "                transactionsModified.append(_request)\n",
    "\n",
    "                if stocksInThisTransaction > 0:\n",
    "                    # Push the partial transaction back\n",
    "                    transaction[\"quantity\"] = stocksInThisTransaction   # Modify the number of stocks available\n",
    "                    heapq.heappush(transactions[\"sell\"], (priceInThisTransaction, timeStamp, transaction))\n",
    "\n",
    "            if numberOfStockRequired > 0:\n",
    "                # Add this transaction to the buyers\n",
    "                request[\"quantity\"] = numberOfStockRequired # Only the quantity changes\n",
    "                # TO-DO: How to determine the amount the buyer needs to pay (more or less)\n",
    "                heapq.heappush(transactions[\"buy\"], (actualPrice, request.get(\"timeStamp\"), request))\n",
    "            \n",
    "            if transactionsModified:\n",
    "                # Update the buyer data\n",
    "                buyerData = users[request.get(\"uId\")]\n",
    "                \n",
    "                for transaction in transactionsModified:\n",
    "                    # Modify the userData for all the users\n",
    "                    dbQueue.put(transaction)\n",
    "            \n",
    "    try:\n",
    "        transactions = {\"buy\":[], \"sell\": []}\n",
    "        while True:\n",
    "            if shutdownEvent.is_set():\n",
    "                break\n",
    "            try:\n",
    "                request = queue.get()\n",
    "            except QueueEmpty as qe:\n",
    "                pass\n",
    "\n",
    "            orderType = request.get(\"orderType\")\n",
    "            if orderType == \"limit\":\n",
    "                pass\n",
    "            elif orderType == \"market\":\n",
    "                pass\n",
    "            elif orderType == \"ioc\":\n",
    "                pass\n",
    "            elif orderType == \"pok\":\n",
    "                pass\n",
    "\n",
    "    except Exception as _e:\n",
    "        logQueue.put(f\"Exception at transaction-engine {stockId}: {str(_e)}\")\n",
    "    \n",
    "    finally:\n",
    "        print(\"Exiting\")\n"
   ]
  },
  {
   "cell_type": "code",
   "execution_count": null,
   "metadata": {},
   "outputs": [
    {
     "name": "stderr",
     "output_type": "stream",
     "text": [
      "Bad pipe message: %s [b' 10.0; Win64; x64) AppleWebKit/537.36 (KHTML, like Gecko) Chrome/137.0.0.0 Sa']\n",
      "Bad pipe message: %s [b'ri/537.36\\r\\nAccept: text/html,application/xhtml+xml,application/xml;q=0.9,image/avif,image/webp,image/', b'ng,*/*;q=0.8,application/signed-exchange;v=b3;q=0.7\\r\\nAccept-Encoding: gzip, deflate, br, zstd\\r\\nA']\n",
      "Bad pipe message: %s [b'ept-Language: en-US,en;q=0.9\\r\\nPriority: u=0, i\\r\\nReferer: https://idx.google.com/\\r\\nSec-Ch-Ua: \"Goog', b' Chrome\";v=\"137\", \"Chromium\";v=\"137\", \"Not/A)Brand\";v=\"24\"\\r\\nSec-Ch-Ua-Arch: \"x86\"\\r\\nSec-Ch-Ua-Bitness: \"64\"\\r', b'ec-Ch-Ua-', b'rm-Factors: \"Desktop\"\\r\\nSec-Ch-Ua-Full-Version: \"137.0.7151.69\"\\r\\nSec-C', b'Ua-Full-Version-List: \"Google Chrome\";v=\"137.0.7151.69\", \"Chromium\";v=\"137.0.7151.69\", \"Not/A)Brand\";v=', b'4.0.0.0\"\\r\\nSec-Ch-Ua-Mobile: ?0\\r\\nS']\n",
      "Bad pipe message: %s [b'-Ch-Ua-Model: \"\"\\r\\nSec-Ch-Ua-Platform: \"Windows\"\\r\\nSec-Ch-Ua-Platform-Version: \"19.0.0\"\\r\\nSec-Ch-Ua-Wow', b': ?0\\r\\nSec-Fetch-Dest: iframe\\r\\nSec-Fetch-Mode: navigat']\n",
      "Bad pipe message: %s [b'\\nSec-Fetch-Site: cross-site\\r\\nSec-Fetch-Storage-Access: active\\r\\nSec-Fetch-User: ?1\\r\\nSec-User-Ip: 10.2', b'20.208\\r\\nUpgrade-Insecure-Requests: 1\\r\\nX-Forward']\n",
      "Bad pipe message: %s [b'-Host: 37381-firebase-cryptoexchange-1749356771160.cluster-6dx7corvpngoivimwvvljgokdw.cloudworkstati']\n",
      "Bad pipe message: %s [b's.dev\\r\\nX-Goog-Workstations-Endpoint: workstations-924f7e5b-ea11-4710-a5d8-bf9b2e19b429.asia-east1-c.c.monospac']\n"
     ]
    }
   ],
   "source": [
    "import time\n",
    "st = time.time()\n",
    "from tinydb import TinyDB\n",
    "\n",
    "# Open (or create) the database\n",
    "db = TinyDB('db.json')\n",
    "\n",
    "# List of transactions (multiple JSON objects like your example)\n",
    "transactions = [\n",
    "    {\n",
    "        \"tId\": \"t12345\",\n",
    "        \"uId\": \"user1\",\n",
    "        \"stockId\": \"btc\",\n",
    "        \"side\": \"buy\",\n",
    "        \"orderType\": \"limit\",\n",
    "        \"quantity\": 5.0,\n",
    "        \"pricePerUnit\": 100.00,\n",
    "        \"status\": \"RECIEVED\",\n",
    "        \"timeStamp\": 34234343423\n",
    "    },\n",
    "    {\n",
    "        \"tId\": \"t12346\",\n",
    "        \"uId\": \"user2\",\n",
    "        \"stockId\": \"eth\",\n",
    "        \"side\": \"sell\",\n",
    "        \"orderType\": \"market\",\n",
    "        \"quantity\": 3.0,\n",
    "        \"pricePerUnit\": 200.00,\n",
    "        \"status\": \"PENDING\",\n",
    "        \"timeStamp\": 34234343500\n",
    "    },\n",
    "    # Add more transactions if you want\n",
    "]\n",
    "\n",
    "# Insert multiple transactions at once\n",
    "db.insert_multiple(transactions)\n",
    "\n",
    "# Fetch all records\n",
    "all_transactions = db.all()\n",
    "\n",
    "# Print all transactions\n",
    "for tx in all_transactions:\n",
    "    print(tx)\n",
    "\n",
    "print(time.time() - st)"
   ]
  }
 ],
 "metadata": {
  "kernelspec": {
   "display_name": ".venv",
   "language": "python",
   "name": "python3"
  },
  "language_info": {
   "codemirror_mode": {
    "name": "ipython",
    "version": 3
   },
   "file_extension": ".py",
   "mimetype": "text/x-python",
   "name": "python",
   "nbconvert_exporter": "python",
   "pygments_lexer": "ipython3",
   "version": "3.11.10"
  }
 },
 "nbformat": 4,
 "nbformat_minor": 2
}
